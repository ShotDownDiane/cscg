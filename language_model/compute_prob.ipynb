{
 "cells": [
  {
   "cell_type": "code",
   "execution_count": 1,
   "metadata": {},
   "outputs": [],
   "source": [
    "import torch\n",
    "import pickle"
   ]
  },
  {
   "cell_type": "code",
   "execution_count": null,
   "metadata": {},
   "outputs": [],
   "source": [
    "class LMProb():\n",
    "    def __init__(self, model_path, dict_path):\n",
    "        self.model = torch.load(open(model_path, 'rb'), map_location={'cuda:0': 'cpu'})\n",
    "        self.model = self.model.cpu()\n",
    "        self.model.eval()\n",
    "\n",
    "        self.dictionary = pickle.load(open(dict_path, 'rb'))\n",
    "        print (len(self.dictionary))\n",
    "\n",
    "    def get_prob(self, words, verbose=False):\n",
    "        with torch.no_grad():\n",
    "            pad_words = ['<s>'] + words + ['</s>']\n",
    "            idxs = [self.dictionary.getid(w) for w in pad_words]\n",
    "            inp = torch.tensor([int(idxs[0])]).long().unsqueeze(0)\n",
    "\n",
    "            if verbose:\n",
    "                print('words =', pad_words)\n",
    "                print('idxs =', idxs)\n",
    "\n",
    "            hidden = self.model.init_hidden(1)\n",
    "            log_probs = []\n",
    "            for i in range(1, len(pad_words)):\n",
    "                output, hidden = self.model(inp, hidden)\n",
    "                word_weights = output.squeeze().data.double().exp()\n",
    "                prob = word_weights[idxs[i]] / word_weights.sum()\n",
    "                log_probs.append(torch.log(prob))\n",
    "                inp.data.fill_(int(idxs[i]))\n",
    "\n",
    "            if verbose:\n",
    "                for i in range(len(log_probs)):\n",
    "                    print('  {} => {:d},\\tlogP(w|s)={:.4f}'.format(pad_words[i+1], idxs[i+1], log_probs[i]))\n",
    "                print('\\n  => sum_prob = {:.4f}'.format(sum(log_probs)))\n",
    "\n",
    "        return sum(log_probs) / len(log_probs)"
   ]
  },
  {
   "cell_type": "code",
   "execution_count": null,
   "metadata": {},
   "outputs": [],
   "source": [
    "lm_model_paths   = ['out/anno.pt', 'out/code.pt']\n",
    "read_file_paths  = ['data/java/train.token.code', 'data/java/train.token.nl']\n",
    "dicts            = ['language_models/java/dict_code.pkl', 'language_models/java/dict_nl.pkl']\n",
    "score_paths = ['scores/train.token.anno.score', 'scores/train.token.code.score']"
   ]
  },
  {
   "cell_type": "code",
   "execution_count": null,
   "metadata": {},
   "outputs": [],
   "source": [
    "def get_score(line, num):\n",
    "    sent = line.strip().split(' ')\n",
    "    lm_score = lm_model.get_prob(sent)\n",
    "    return num, lm_score\n",
    "\n",
    "# for anno / code\n",
    "for i in range(2):\n",
    "    lm_model = LMProb(lm_model_paths[i], dicts[i])\n",
    "    \n",
    "    with open(read_file_paths[i], 'rt') as fp:\n",
    "        lines = fp.readlines()\n",
    "    \n",
    "    with ProcessPoolExecutor(max_workers=8) as executor:\n",
    "        results = executor.map(get_score, lines, list(range(len(lines))))\n",
    "        \n",
    "    scores = {num: lm_score for (num, lm_score) in results}\n",
    "    \n",
    "    with open(score_paths[i], 'wt') as fp:\n",
    "        for i in range(len(lines)):\n",
    "            fp.write(str(scores[i]) + '\\n')"
   ]
  }
 ],
 "metadata": {
  "kernelspec": {
   "display_name": "Python 3",
   "language": "python",
   "name": "python3"
  },
  "language_info": {
   "codemirror_mode": {
    "name": "ipython",
    "version": 3
   },
   "file_extension": ".py",
   "mimetype": "text/x-python",
   "name": "python",
   "nbconvert_exporter": "python",
   "pygments_lexer": "ipython3",
   "version": "3.7.5"
  }
 },
 "nbformat": 4,
 "nbformat_minor": 4
}
