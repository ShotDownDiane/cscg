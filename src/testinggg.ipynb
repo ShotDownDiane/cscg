{
 "cells": [
  {
   "cell_type": "code",
   "execution_count": null,
   "metadata": {},
   "outputs": [],
   "source": [
    "import os \n",
    "from termcolor import colored\n",
    "\n",
    "print('{:12.6f}s'.format(11.21313132))\n",
    "print('{:12.6f}s'.format(12332.21313132))"
   ]
  },
  {
   "cell_type": "code",
   "execution_count": null,
   "metadata": {},
   "outputs": [],
   "source": [
    "EMB_DIR    = '/home/alex/workspace/msc-research/embeddings'\n",
    "DJANGO_DIR = '/home/alex/workspace/msc-research/raw-datasets/django/'"
   ]
  },
  {
   "cell_type": "code",
   "execution_count": null,
   "metadata": {},
   "outputs": [],
   "source": [
    "path_of = lambda x: os.path.join(DJANGO_DIR, x)\n",
    "anno = [l.strip() for l in open(path_of('all.anno')).readlines()]\n",
    "code = [l.strip() for l in open(path_of('all.code')).readlines()]\n",
    "anno[:10]"
   ]
  },
  {
   "cell_type": "code",
   "execution_count": null,
   "metadata": {},
   "outputs": [],
   "source": [
    "from lang import Lang"
   ]
  },
  {
   "cell_type": "code",
   "execution_count": null,
   "metadata": {},
   "outputs": [],
   "source": [
    "# anno = [\n",
    "#     'this is a sentence',\n",
    "#     'this is not a sentence'\n",
    "# ]\n",
    "l = Lang('en')\n",
    "for a in anno:\n",
    "    l.add_sentence(a)\n",
    "l.normalize_vocab(min_freq=1)"
   ]
  },
  {
   "cell_type": "code",
   "execution_count": null,
   "metadata": {},
   "outputs": [],
   "source": [
    "x, y = l.numericalize('this not is is hahasentence', pad_mode='post', maxlen=5)\n",
    "y = torch.tensor(y)\n",
    "y"
   ]
  },
  {
   "cell_type": "code",
   "execution_count": null,
   "metadata": {},
   "outputs": [],
   "source": [
    "len(l)"
   ]
  },
  {
   "cell_type": "markdown",
   "metadata": {},
   "source": [
    "### Seq2Seq"
   ]
  },
  {
   "cell_type": "markdown",
   "metadata": {},
   "source": [
    "<img src='https://www.tensorflow.org/images/seq2seq/attention_mechanism.jpg' width='450' align='left'>\n",
    "<img src='https://i.stack.imgur.com/SjnTl.png' width='450' align='right'>\n",
    "<img src='https://camo.githubusercontent.com/48c57cd28983a819a5a7a0fe7119a269d8f86af6/68747470733a2f2f63646e2d696d616765732d312e6d656469756d2e636f6d2f6d61782f313230302f312a4752513931484e415342374d414a5054546c567666772e6a706567'>"
   ]
  }
 ],
 "metadata": {
  "kernelspec": {
   "display_name": "Python 3",
   "language": "python",
   "name": "python3"
  },
  "language_info": {
   "codemirror_mode": {
    "name": "ipython",
    "version": 3
   },
   "file_extension": ".py",
   "mimetype": "text/x-python",
   "name": "python",
   "nbconvert_exporter": "python",
   "pygments_lexer": "ipython3",
   "version": "3.7.5"
  }
 },
 "nbformat": 4,
 "nbformat_minor": 4
}
