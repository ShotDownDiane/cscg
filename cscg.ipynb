{
 "cells": [
  {
   "cell_type": "code",
   "execution_count": 1,
   "metadata": {},
   "outputs": [],
   "source": [
    "import sys\n",
    "sys.path.insert(0, './language_model/')\n",
    "\n",
    "# for suppressing T.save warnings\n",
    "# see https://discuss.pyT.org/t/got-warning-couldnt-retrieve-source-code-for-container/7689\n",
    "import warnings\n",
    "warnings.simplefilter('ignore', UserWarning)"
   ]
  },
  {
   "cell_type": "code",
   "execution_count": 2,
   "metadata": {},
   "outputs": [
    {
     "name": "stdout",
     "output_type": "stream",
     "text": [
      "GPU: True | CUDA: 10.1\n"
     ]
    }
   ],
   "source": [
    "import os\n",
    "from timeit import default_timer as timer\n",
    "from functools import reduce\n",
    "import operator\n",
    "import json\n",
    "\n",
    "import pandas as pd\n",
    "import scipy.stats as stats\n",
    "\n",
    "import torch as T\n",
    "import torch.nn as nn\n",
    "import torch.nn.functional as F\n",
    "import torch.optim as O\n",
    "from torch.utils.data import DataLoader\n",
    "\n",
    "from dataset import StandardDataset\n",
    "from language_model.lm_train import train_language_model\n",
    "from language_model.lm_prob import LMProb\n",
    "from ml_utils.config import Config\n",
    "\n",
    "import pprint\n",
    "pp = pprint.PrettyPrinter(width=180, indent=2, compact=False)\n",
    "\n",
    "%matplotlib inline\n",
    "%config InlineBackend.figure_format = 'retina'\n",
    "sns.set()\n",
    "\n",
    "print(f'GPU: {T.cuda.is_available()} | CUDA: {T.version.cuda}')\n",
    "\n",
    "def from_home(x):\n",
    "    return os.path.join(os.environ['HOME'], x)"
   ]
  },
  {
   "cell_type": "markdown",
   "metadata": {},
   "source": [
    "# 1. Setup"
   ]
  },
  {
   "cell_type": "code",
   "execution_count": 7,
   "metadata": {},
   "outputs": [
    {
     "name": "stdout",
     "output_type": "stream",
     "text": [
      "Dataset: conala-corpus\n"
     ]
    }
   ],
   "source": [
    "ROOT_DIR   = from_home('workspace/ml-data/msc-research')\n",
    "\n",
    "# DJANGO_DIR = os.path.join(ROOT_DIR, 'raw-datasets/testing') # simple django\n",
    "DJANGO_DIR = os.path.join(ROOT_DIR, 'raw-datasets/django')\n",
    "CONALA_DIR = os.path.join(ROOT_DIR, 'raw-datasets/conala-corpus')\n",
    "\n",
    "DATASET_DIR = CONALA_DIR\n",
    "EMB_DIR     = os.path.join(ROOT_DIR, 'embeddings')\n",
    "\n",
    "print(f'Dataset: {os.path.basename(DATASET_DIR)}')"
   ]
  },
  {
   "cell_type": "markdown",
   "metadata": {},
   "source": [
    "## 1.1. Read dataset"
   ]
  },
  {
   "cell_type": "code",
   "execution_count": 8,
   "metadata": {},
   "outputs": [
    {
     "data": {
      "text/plain": [
       "(1.0, 1.0)"
      ]
     },
     "execution_count": 8,
     "metadata": {},
     "output_type": "execute_result"
    }
   ],
   "source": [
    "a = [len(l.strip().split()) for l in open(DATASET_DIR + '/all.anno').readlines()]\n",
    "c = [len(l.strip().split()) for l in open(DATASET_DIR + '/all.code').readlines()]\n",
    "assert len(a) == len(c)\n",
    "\n",
    "d = pd.DataFrame([{'a': _a, 'c': _c} for (_a, _c) in zip(a, c)])\n",
    "d.describe()\n",
    "\n",
    "a = round(len(list(filter(lambda x: x <= 10, a))) / len(a), 3)\n",
    "c = round(len(list(filter(lambda x: x <= 10, c))) / len(c), 3)\n",
    "a, c"
   ]
  },
  {
   "cell_type": "markdown",
   "metadata": {},
   "source": [
    "## 1.2. Construct config"
   ]
  },
  {
   "cell_type": "code",
   "execution_count": 28,
   "metadata": {},
   "outputs": [],
   "source": [
    "CFG = Config() # main config\n",
    "\n",
    "# sub-config for dataset\n",
    "CFG.dataset_cfg = Config()\n",
    "CFG.dataset_cfg.__dict__ = {\n",
    "    'root_dir': DATASET_DIR,\n",
    "    'anno_min_freq': 1,\n",
    "    'code_min_freq': 1,\n",
    "    'anno_seq_maxlen': 10,\n",
    "    'code_seq_maxlen': 10,\n",
    "    'emb_file': os.path.join(EMB_DIR, 'glove.6B.50d.txt.pickle'),\n",
    "}\n",
    "\n",
    "dataset = StandardDataset(config=CFG.dataset_cfg)\n",
    "\n",
    "# sub-config for NL intents\n",
    "CFG.anno = Config() \n",
    "CFG.anno.__dict__ = {\n",
    "    'lstm_hidden_size': 64,\n",
    "    'lstm_dropout_p': 0.0,\n",
    "    'att_dropout_p': 0.0,\n",
    "    'lang': dataset.anno_lang,\n",
    "    'load_pretrained_emb': True,\n",
    "    'emb_size': 50,\n",
    "}\n",
    "\n",
    "# sub-config for source code\n",
    "CFG.code = Config() \n",
    "CFG.code.__dict__ = {\n",
    "    'lstm_hidden_size': 128,\n",
    "    'lstm_dropout_p': 0.0,\n",
    "    'att_dropout_p': 0.0,\n",
    "    'lang': dataset.code_lang,\n",
    "    'load_pretrained_emb': False,\n",
    "    'emb_size': 16,\n",
    "}\n",
    "\n",
    "CFG.__dict__.update({\n",
    "    'cuda': False,\n",
    "    'batch_size': 32,\n",
    "    'num_epochs': 100\n",
    "})"
   ]
  },
  {
   "cell_type": "markdown",
   "metadata": {},
   "source": [
    "---"
   ]
  },
  {
   "cell_type": "code",
   "execution_count": null,
   "metadata": {},
   "outputs": [],
   "source": [
    "# toks = dataset.code_lang.to_numeric('return dict', tokenize_mode='anno', pad_mode='post', max_len=10)\n",
    "# ws = dataset.code_lang.to_tokens(T.tensor(toks))"
   ]
  },
  {
   "cell_type": "code",
   "execution_count": null,
   "metadata": {},
   "outputs": [],
   "source": [
    "# i = np.random.randint(len(dataset))\n",
    "# a, c = dataset[i]\n",
    "# assert len(a) == CFG.dataset_cfg.anno_seq_maxlen, f'{i}'\n",
    "# assert len(c) == CFG.dataset_cfg.code_seq_maxlen, f'{i}'\n",
    "# pp.pprint(a)\n",
    "# pp.pprint(dataset.anno_lang.to_tokens(a))\n",
    "# print('-'*120)\n",
    "# pp.pprint(c)\n",
    "# pp.pprint(dataset.code_lang.to_tokens(c))"
   ]
  },
  {
   "cell_type": "markdown",
   "metadata": {
    "toc-hr-collapsed": false
   },
   "source": [
    "# 2. Compute LM probabilities"
   ]
  },
  {
   "cell_type": "markdown",
   "metadata": {},
   "source": [
    "## 2.1. Get train/test/valid splits"
   ]
  },
  {
   "cell_type": "code",
   "execution_count": 29,
   "metadata": {},
   "outputs": [
    {
     "name": "stdout",
     "output_type": "stream",
     "text": [
      "train 315.00 | test 45.0 | dev 90.0\n"
     ]
    }
   ],
   "source": [
    "_tp, _vp = 0.1, 0.2\n",
    "splits = dataset.train_test_valid_split(test_p=_tp, valid_p=_vp, seed=42)\n",
    "\n",
    "for kind in splits:\n",
    "    for t in splits[kind]:\n",
    "        vs = splits[kind][t]\n",
    "        vs = T.cat(vs)\n",
    "        vs = vs[vs != 0]\n",
    "        splits[kind][t] = vs\n",
    "        \n",
    "print(f'train {(1-_tp-_vp)*len(dataset):.2f} | test {_tp*len(dataset)} | dev {_vp*len(dataset)}')"
   ]
  },
  {
   "cell_type": "markdown",
   "metadata": {},
   "source": [
    "## 2.2. Train language model\n",
    "\n",
    "**Note:** Must do this for both anno and code."
   ]
  },
  {
   "cell_type": "code",
   "execution_count": 30,
   "metadata": {},
   "outputs": [],
   "source": [
    "CFG.language_model = Config()\n",
    "CFG.language_model.__dict__ = {\n",
    "    'dataset'     : 'conala',\n",
    "    'model'       : 'LSTM', # type of recurrent net (RNN_TANH, RNN_RELU, LSTM, GRU, Transformer)\n",
    "    'n_head'      : None,   # number of heads in the enc/dec of the Transformers\n",
    "    'emb_size'    : 32,     # size of the word embeddings\n",
    "    'n_hid'       : 64,     # number of hidden units per layer\n",
    "    'n_layers'    : 1,      # number of layers\n",
    "    'lr'          : 0.25,    # initial learning rate\n",
    "    'clip'        : 0.25,   # gradient clipping\n",
    "    'dropout_p'   : 0.05,    # dropout applied to layers\n",
    "    'tied'        : False,  # whether to tie the word embeddings and softmax weights\n",
    "    'log_interval': 100,\n",
    "    'epochs'      : 100, # upper epoch limit\n",
    "    'batch_size'  : 32,\n",
    "    'seed'        : None # for reproducibility\n",
    "}\n",
    "\n",
    "# CFG.language_model"
   ]
  },
  {
   "cell_type": "code",
   "execution_count": null,
   "metadata": {},
   "outputs": [],
   "source": [
    "lm_cfg = CFG.language_model\n",
    "\n",
    "for kind in ['anno', 'code']:\n",
    "    print(f'Training LM for {kind}\\n')\n",
    "\n",
    "    lm_cfg.kind = kind\n",
    "    lm_cfg.bptt = CFG.dataset_cfg.__dict__[f'{kind}_seq_maxlen'] # seq len\n",
    "    lm_cfg.save_path = f'./data/lm/lm-{lm_cfg.dataset}-{lm_cfg.kind}.pt' # path to save the final model\n",
    "    \n",
    "#     train_language_model(lm_cfg, \n",
    "#                          num_tokens=len(getattr(dataset, f'{kind}_lang')),\n",
    "#                          train_nums=T.stack(splits[kind]['train']),\n",
    "#                          test_nums=T.stack(splits[kind]['test']),\n",
    "#                          valid_nums=T.stack(splits[kind]['valid']))\n",
    "    \n",
    "    train_language_model(lm_cfg, \n",
    "                         num_tokens=len(getattr(dataset, f'{kind}_lang')),\n",
    "                         train_nums=splits[kind]['train'],\n",
    "                         test_nums=splits[kind]['test'],\n",
    "                         valid_nums=splits[kind]['valid'])\n",
    "    \n",
    "    print('*' * 120, '\\n')"
   ]
  },
  {
   "cell_type": "markdown",
   "metadata": {},
   "source": [
    "## 2.3. Compute LM probs"
   ]
  },
  {
   "cell_type": "code",
   "execution_count": 31,
   "metadata": {},
   "outputs": [
    {
     "data": {
      "application/vnd.jupyter.widget-view+json": {
       "model_id": "42db2f4e810941ef8784d2c0195d9cba",
       "version_major": 2,
       "version_minor": 0
      },
      "text/plain": [
       "HBox(children=(FloatProgress(value=0.0, description='P(anno)', max=450.0, style=ProgressStyle(description_widt…"
      ]
     },
     "metadata": {},
     "output_type": "display_data"
    },
    {
     "name": "stdout",
     "output_type": "stream",
     "text": [
      "\n"
     ]
    },
    {
     "data": {
      "application/vnd.jupyter.widget-view+json": {
       "model_id": "6828dc0cd60b4b89819b89dfa3602a7e",
       "version_major": 2,
       "version_minor": 0
      },
      "text/plain": [
       "HBox(children=(FloatProgress(value=0.0, description='P(code)', max=450.0, style=ProgressStyle(description_widt…"
      ]
     },
     "metadata": {},
     "output_type": "display_data"
    },
    {
     "name": "stdout",
     "output_type": "stream",
     "text": [
      "\n"
     ]
    }
   ],
   "source": [
    "lm_paths = {k: f'./data/lm/lm-{CFG.language_model.dataset}-{k}.pt' for k in ['anno', 'code']}\n",
    "\n",
    "for f in lm_paths.values():\n",
    "    assert os.path.exists(f), f'Language Model: file <{f}> does not exist!'\n",
    "    \n",
    "_ = dataset.compute_lm_probs(lm_paths)"
   ]
  },
  {
   "cell_type": "markdown",
   "metadata": {},
   "source": [
    "---"
   ]
  },
  {
   "cell_type": "code",
   "execution_count": null,
   "metadata": {},
   "outputs": [],
   "source": [
    "i = np.random.randint(len(dataset))\n",
    "a, c, pa, pc = dataset[i]\n",
    "' '.join(dataset.anno_lang.to_tokens(a)[0]), ' '.join(dataset.code_lang.to_tokens(c)[0])"
   ]
  },
  {
   "cell_type": "code",
   "execution_count": null,
   "metadata": {},
   "outputs": [],
   "source": [
    "# class MyLMProb:\n",
    "#     def __init__(self, model_path):        \n",
    "#         self.model = T.load(open(model_path, 'rb'), map_location={'cuda:0': 'cpu'})\n",
    "#         self.model = self.model.cpu()\n",
    "#         self.model.eval()\n",
    "\n",
    "#     def get_prob(self, nums, verbose=False):\n",
    "#         with T.no_grad():\n",
    "#             inp = T.tensor([int(nums[0])]).long().unsqueeze(0)\n",
    "#             hidden = self.model.init_hidden(bsz=1)\n",
    "#             log_probs = []\n",
    "            \n",
    "#             for i in range(1, len(nums)):\n",
    "#                 output, hidden = self.model(inp, hidden)\n",
    "                \n",
    "#                 #word_weights = output.squeeze().data.double().exp()\n",
    "#                 #prob = word_weights[nums[i]] / word_weights.sum()\n",
    "#                 probs = F.softmax(output.squeeze(), dim=-1)\n",
    "#                 prob = probs[nums[i]]\n",
    "                \n",
    "#                 # append current log prob\n",
    "#                 log_probs += [T.log(prob)]\n",
    "#                 inp.data.fill_(int(nums[i]))\n",
    "\n",
    "#             if verbose:\n",
    "#                 for i in range(len(log_probs)):\n",
    "#                     print(f'{nums[i+1]:4d}: P(w|s) = {np.exp(log_probs[i]):8.4f} | logP(w|s) = {log_probs[i]:8.4f}')\n",
    "#                 print(f'=> sum_prob = {sum(log_probs):.4f}')\n",
    "\n",
    "#         return sum(log_probs) / len(log_probs)"
   ]
  },
  {
   "cell_type": "code",
   "execution_count": null,
   "metadata": {},
   "outputs": [],
   "source": [
    "# lm_probs = {'anno': [], 'code': []}\n",
    "\n",
    "# pad_idx = {\n",
    "#     'anno': dataset.anno_lang.token2index['<pad>'],\n",
    "#     'code': dataset.code_lang.token2index['<pad>']\n",
    "# } \n",
    "\n",
    "# for kind in lm_probs:\n",
    "#     lm = MyLMProb(lm_paths[kind])\n",
    "#     p = pad_idx[kind]\n",
    "\n",
    "#     for vec in tqdm(getattr(dataset, kind), total=len(dataset), desc=f'P({kind})'):\n",
    "#         lm_probs[kind] += [np.exp(lm.get_prob(vec[vec != pad_idx[kind]], verbose=False))]\n",
    "    \n",
    "#     lm_probs[kind] = sum(lm_probs[kind])\n",
    "#     break"
   ]
  },
  {
   "cell_type": "code",
   "execution_count": null,
   "metadata": {},
   "outputs": [],
   "source": [
    "# kind = 'anno'\n",
    "# lm = MyLMProb(lm_paths[kind])\n",
    "# s = {}\n",
    "# for t, i in tqdm(getattr(dataset, f'{kind}_lang').token2index.items()):\n",
    "#     if i in [0, 2, 3]:\n",
    "#         continue\n",
    "#     q = T.tensor([2, i, 3])\n",
    "#     s[i] = np.exp(lm.get_prob(q))\n",
    "    \n",
    "# xs, ys = zip(*sorted(s.items(), key=lambda k: -k[1]))\n",
    "\n",
    "# plt.figure(figsize=(14,6))\n",
    "# plt.bar(xs, ys)\n",
    "# plt.xticks(xs, rotation=90)\n",
    "\n",
    "# sum(ys)"
   ]
  },
  {
   "cell_type": "markdown",
   "metadata": {},
   "source": [
    "# 3. Dual CS/CG Model"
   ]
  },
  {
   "cell_type": "code",
   "execution_count": 32,
   "metadata": {},
   "outputs": [],
   "source": [
    "def get_embeddings(config: Config):\n",
    "    emb = nn.Embedding(len(config.lang), config.emb_size, padding_idx=config.lang.pad_idx)\n",
    "    \n",
    "    if config.load_pretrained_emb:\n",
    "        assert config.lang.emb_matrix is not None\n",
    "        emb.weight = nn.Parameter(T.tensor(config.lang.emb_matrix, dtype=T.float32))\n",
    "        emb.weight.requires_grad = False\n",
    "        \n",
    "    return emb"
   ]
  },
  {
   "cell_type": "code",
   "execution_count": 33,
   "metadata": {},
   "outputs": [],
   "source": [
    "class Model(nn.Module):\n",
    "    def __init__(self, config: Config, model_type):\n",
    "        \"\"\"\n",
    "        :param model_type: cs / cg\n",
    "        cs: code -> anno\n",
    "        cg: anno -> code\n",
    "        \"\"\"\n",
    "        super(Model, self).__init__()\n",
    "        \n",
    "        assert model_type in ['cs', 'cg']\n",
    "        self.model_type = model_type\n",
    "        \n",
    "        src_cfg = config.anno if model_type == 'cg' else config.code\n",
    "        tgt_cfg = config.code if model_type == 'cg' else config.anno\n",
    "        \n",
    "        # 1. ENCODER\n",
    "        self.src_embedding = get_embeddings(src_cfg)\n",
    "        self.encoder = nn.LSTM(input_size=src_cfg.emb_size,\n",
    "                               hidden_size=src_cfg.lstm_hidden_size,\n",
    "                               dropout=src_cfg.lstm_dropout_p,\n",
    "                               bidirectional=True,\n",
    "                               batch_first=True)\n",
    "        \n",
    "        self.decoder_cell_init_linear = nn.Linear(in_features=2*src_cfg.lstm_hidden_size,\n",
    "                                                  out_features=tgt_cfg.lstm_hidden_size)\n",
    "        \n",
    "        # 2. ATTENTION\n",
    "        # project source encoding to decoder rnn's h space (W from Luong score general)\n",
    "        self.att_src_W = nn.Linear(in_features=2*src_cfg.lstm_hidden_size,\n",
    "                                   out_features=tgt_cfg.lstm_hidden_size,\n",
    "                                   bias=False)\n",
    "        \n",
    "        # transformation of decoder hidden states and context vectors before reading out target words\n",
    "        # this produces the attentional vector in (W from Luong eq. 5)\n",
    "        self.att_vec_W = nn.Linear(in_features=2*src_cfg.lstm_hidden_size + tgt_cfg.lstm_hidden_size,\n",
    "                                   out_features=tgt_cfg.lstm_hidden_size,\n",
    "                                   bias=False)\n",
    "        \n",
    "        # 3. DECODER\n",
    "        self.tgt_embedding = get_embeddings(tgt_cfg)\n",
    "        self.decoder = nn.LSTMCell(input_size=tgt_cfg.emb_size + tgt_cfg.lstm_hidden_size,\n",
    "                                   hidden_size=tgt_cfg.lstm_hidden_size)\n",
    "       \n",
    "        # prob layer over target language\n",
    "        self.readout = nn.Linear(in_features=tgt_cfg.lstm_hidden_size,\n",
    "                                 out_features=len(tgt_cfg.lang),\n",
    "                                 bias=False)\n",
    "        \n",
    "        self.dropout = nn.Dropout(tgt_cfg.att_dropout_p)\n",
    "        \n",
    "        # 4. COPY MECHANISM\n",
    "        self.copy_gate = ... # TODO\n",
    "        \n",
    "        # save configs\n",
    "        self.src_cfg = src_cfg\n",
    "        self.tgt_cfg = tgt_cfg\n",
    "        \n",
    "        device = T.device('cuda' if CFG.cuda else 'cpu')\n",
    "        self.to(device)\n",
    "        print(f'[{model_type}] using [{device}]')\n",
    "        \n",
    "        \n",
    "    def forward(self, src, tgt):\n",
    "        \"\"\"\n",
    "        src: bs, max_src_len\n",
    "        tgt: bs, max_tgt_len\n",
    "        \"\"\"\n",
    "        enc_out, (h0_dec, c0_dec) = self.encode(src)\n",
    "        scores, att_mats = self.decode(enc_out, h0_dec, c0_dec, tgt)\n",
    "        \n",
    "        return scores, att_mats\n",
    "    \n",
    "    \n",
    "    def encode(self, src):\n",
    "        \"\"\"\n",
    "        src : bs x max_src_len (emb look-up indices)\n",
    "        out : bs x max_src_len x 2*hid_size\n",
    "        h/c0: bs x tgt_hid_size\n",
    "        \"\"\"\n",
    "        emb = self.src_embedding(src)\n",
    "        out, (hn, cn) = self.encoder(emb) # hidden is zero by default\n",
    "        \n",
    "        # construct initial state for the decoder\n",
    "        c0_dec = self.decoder_cell_init_linear(T.cat([cn[0], cn[1]], dim=1))\n",
    "        h0_dec = c0_dec.tanh()\n",
    "        \n",
    "        return out, (h0_dec, c0_dec)\n",
    "    \n",
    "    \n",
    "    def decode(self, src_enc, h0_dec, c0_dec, tgt):\n",
    "        \"\"\"\n",
    "        src_enc: bs, max_src_len, 2*hid_size (== encoder output)\n",
    "        h/c0   : bs, tgt_hid_size\n",
    "        tgt    : bs, max_tgt_len (emb look-up indices)\n",
    "        \"\"\"\n",
    "        batch_size, tgt_len = tgt.shape\n",
    "        scores, att_mats = [], []\n",
    "        \n",
    "        hidden = (h0_dec, c0_dec)\n",
    "        \n",
    "        emb = self.tgt_embedding(tgt) # bs, max_tgt_len, tgt_emb_size\n",
    "        \n",
    "        att_vec = T.zeros(batch_size, self.tgt_cfg.lstm_hidden_size, requires_grad=False)\n",
    "        if CFG.cuda:\n",
    "            att_vec = att_vec.cuda()\n",
    "        \n",
    "        # Luong W*hs: same for each timestep of the decoder\n",
    "        src_enc_att = self.att_src_W(src_enc) # bs, max_src_len, tgt_hid_size\n",
    "        \n",
    "        for t in range(tgt_len):\n",
    "            emb_t = emb[:, t, :]\n",
    "            x = T.cat([emb_t, att_vec], dim=-1)\n",
    "            h_t, c_t = self.decoder(x, hidden)\n",
    "\n",
    "            ctx_t, att_mat = self.luong_attention(h_t, src_enc, src_enc_att)\n",
    "            \n",
    "            # Luong eq. (5)\n",
    "            att_t = self.att_vec_W(T.cat([h_t, ctx_t], dim=1))\n",
    "            att_t = att_t.tanh()\n",
    "            att_t = self.dropout(att_t)\n",
    "            \n",
    "            # Luong eq. (6)\n",
    "            score_t = self.readout(att_t)\n",
    "            score_t = F.softmax(score_t, dim=-1)\n",
    "            \n",
    "            scores   += [score_t]\n",
    "            att_mats += [att_mat]\n",
    "            \n",
    "            # for next state t+1\n",
    "            att_vec = att_t\n",
    "            hidden  = (h_t, c_t)\n",
    "        \n",
    "        # bs, max_tgt_len, tgt_vocab_size\n",
    "        scores = T.stack(scores).permute((1, 0, 2))\n",
    "        \n",
    "        # each element: bs, max_src_len, max_tgt_len\n",
    "        att_mats = T.cat(att_mats, dim=1)\n",
    "        \n",
    "        return scores, att_mats\n",
    "            \n",
    "        \n",
    "    def luong_attention(self, h_t, src_enc, src_enc_att, mask=None):\n",
    "        \"\"\"\n",
    "        h_t               : bs, hid_size\n",
    "        src_enc (hs)      : bs, max_src_len, 2*src_hid_size \n",
    "        src_enc_att (W*hs): bs, max_src_len, tgt_hid_size\n",
    "        mask              : bs, max_src_len\n",
    "        \n",
    "        ctx_vec    : bs, 2*src_hid_size\n",
    "        att_weight : bs, max_src_len\n",
    "        att_mat    : bs, 1, max_src_len\n",
    "        \"\"\"\n",
    "        \n",
    "        # bs x src_max_len\n",
    "        score = T.bmm(src_enc_att, h_t.unsqueeze(2)).squeeze(2)\n",
    "        \n",
    "        if mask:\n",
    "            score.data.masked_fill_(mask, -np.inf)\n",
    "        \n",
    "        att_mat = score.unsqueeze(1)\n",
    "        att_weights = F.softmax(score, dim=-1)\n",
    "        \n",
    "        # sum per timestep\n",
    "        ctx_vec = T.sum(att_weights.unsqueeze(2) * src_enc, dim=1)\n",
    "        \n",
    "        return ctx_vec, att_mat\n",
    "    \n",
    "    \n",
    "    def translate(self, src_sents, beam_size, to_words=True):\n",
    "        \"\"\"\n",
    "        Beam search\n",
    "        src: input sequence (anno / code)\n",
    "        \"\"\"\n",
    "        pass"
   ]
  },
  {
   "cell_type": "markdown",
   "metadata": {},
   "source": [
    "# 4. Train"
   ]
  },
  {
   "cell_type": "markdown",
   "metadata": {},
   "source": [
    "## 4.1. Setup"
   ]
  },
  {
   "cell_type": "code",
   "execution_count": 34,
   "metadata": {},
   "outputs": [],
   "source": [
    "def get_vocab_mask(lang):\n",
    "    mask = T.ones(len(lang))\n",
    "    mask[lang.token2index['<pad>']] = 0\n",
    "    return mask\n",
    "\n",
    "def JSD(a, b, clone=True, mask=None):\n",
    "    eps = 1e-8\n",
    "    \n",
    "    assert a.shape == b.shape\n",
    "    _, n, _ = a.shape \n",
    "        \n",
    "    xa, xb = (a.clone(), b.clone()) if clone else (a, b)        \n",
    "    \n",
    "    xa = F.softmax(xa, dim=2) + eps\n",
    "    xb = F.softmax(xb, dim=2) + eps\n",
    "    \n",
    "    # common, averaged dist\n",
    "    avg = 0.5 * (xa + xb)\n",
    "    \n",
    "    # kl\n",
    "    xa = T.sum(xa * T.log(xa / avg), dim=2)\n",
    "    xb = T.sum(xb * T.log(xb / avg), dim=2)\n",
    "    \n",
    "    # js\n",
    "    xa = T.sum(xa, dim=1) / n\n",
    "    xb = T.sum(xb, dim=1) / n\n",
    "    \n",
    "    return 0.5 * (xa + xb)\n",
    "\n",
    "\n",
    "def JSD_2(A, B, mask=None):\n",
    "    eps = 1e-8\n",
    "    \n",
    "    assert A.shape == B.shape\n",
    "    b, n, m = A.shape\n",
    "        \n",
    "    js = []\n",
    "    for bi in range(b):\n",
    "        kl_a, kl_b = 0, 0\n",
    "        \n",
    "        for i in range(n):\n",
    "            a = A[bi, i, :]\n",
    "            b = B[bi, i, :]\n",
    "            \n",
    "            if mask is not None:\n",
    "                a[mask[i]] = -(1e8)\n",
    "                b[mask[i]] = -(1e8)\n",
    "            \n",
    "            a = F.softmax(a) + eps\n",
    "            b = F.softmax(b) + eps\n",
    "            m = 0.5 * (a + b)\n",
    "            kl_a += stats.entropy(a, m) / n\n",
    "            kl_b += stats.entropy(b, m) / n\n",
    "        \n",
    "        js += [0.5 * (kl_a + kl_b)]\n",
    "    \n",
    "    return T.tensor(js)"
   ]
  },
  {
   "cell_type": "code",
   "execution_count": 89,
   "metadata": {},
   "outputs": [
    {
     "name": "stdout",
     "output_type": "stream",
     "text": [
      "[cg] using [cpu]\n",
      "[cs] using [cpu]\n",
      "DataLoader: 15 batches of size 32\n"
     ]
    }
   ],
   "source": [
    "cg_model     = Model(CFG, model_type='cg')\n",
    "cg_model.opt = O.Adam(lr=0.002, params=filter(lambda p: p.requires_grad, cg_model.parameters()))\n",
    "\n",
    "cs_model     = Model(CFG, model_type='cs')\n",
    "cs_model.opt = O.Adam(lr=0.002, params=filter(lambda p: p.requires_grad, cs_model.parameters()))\n",
    "\n",
    "kwargs = {} # {'num_workers': 4, 'pin_memory': True}\n",
    "train_loader = DataLoader(dataset, batch_size=CFG.batch_size, shuffle=True, **kwargs)\n",
    "print(f'DataLoader: {len(train_loader)} batches of size {CFG.batch_size}')\n",
    "\n",
    "__cg_l = 0\n",
    "__cs_l = 0\n",
    "__att_l = 0\n",
    "__dual_l = 0\n",
    "__rep_every = 15"
   ]
  },
  {
   "cell_type": "markdown",
   "metadata": {},
   "source": [
    "## 4.2. Loop"
   ]
  },
  {
   "cell_type": "code",
   "execution_count": 90,
   "metadata": {},
   "outputs": [
    {
     "name": "stdout",
     "output_type": "stream",
     "text": [
      "Epoch     1/100 | Batch    15/   15 | avg CG 4.96300 | avg CS 5.92062 | avg ATT 0.14292 | avg DUAL 0.39005\n",
      "Epoch     2/100 | Batch    15/   15 | avg CG 3.61521 | avg CS 4.70281 | avg ATT 0.09453 | avg DUAL 0.18951\n",
      "Epoch     3/100 | Batch    15/   15 | avg CG 3.31325 | avg CS 4.49830 | avg ATT 0.03157 | avg DUAL 0.25341\n",
      "Epoch     4/100 | Batch    15/   15 | avg CG 3.15264 | avg CS 4.44265 | avg ATT 0.03369 | avg DUAL 0.28624\n",
      "Epoch     5/100 | Batch    15/   15 | avg CG 2.82657 | avg CS 4.28564 | avg ATT 0.02600 | avg DUAL 0.35062\n",
      "Epoch     6/100 | Batch    15/   15 | avg CG 2.49606 | avg CS 4.19147 | avg ATT 0.05679 | avg DUAL 0.56886\n",
      "Epoch     7/100 | Batch    15/   15 | avg CG 2.19018 | avg CS 4.10501 | avg ATT 0.08498 | avg DUAL 0.87867\n",
      "Epoch     8/100 | Batch    15/   15 | avg CG 1.91632 | avg CS 3.99943 | avg ATT 0.06911 | avg DUAL 1.28860\n",
      "Epoch     9/100 | Batch    15/   15 | avg CG 1.73252 | avg CS 3.89443 | avg ATT 0.05709 | avg DUAL 1.56567\n",
      "Epoch    10/100 | Batch    15/   15 | avg CG 1.48296 | avg CS 3.85806 | avg ATT 0.06334 | avg DUAL 1.90670\n",
      "Epoch    11/100 | Batch    15/   15 | avg CG 1.31032 | avg CS 3.74680 | avg ATT 0.04950 | avg DUAL 2.22636\n",
      "Epoch    12/100 | Batch    15/   15 | avg CG 1.15213 | avg CS 3.58753 | avg ATT 0.06341 | avg DUAL 2.18741\n",
      "Epoch    13/100 | Batch    15/   15 | avg CG 1.03050 | avg CS 3.48816 | avg ATT 0.04211 | avg DUAL 2.20306\n",
      "Epoch    14/100 | Batch    15/   15 | avg CG 0.90732 | avg CS 3.33239 | avg ATT 0.04558 | avg DUAL 2.16291\n",
      "Epoch    15/100 | Batch    15/   15 | avg CG 0.81496 | avg CS 3.28161 | avg ATT 0.03819 | avg DUAL 2.38533\n",
      "Epoch    16/100 | Batch    15/   15 | avg CG 0.75030 | avg CS 3.11217 | avg ATT 0.04317 | avg DUAL 2.15974\n",
      "Epoch    17/100 | Batch    15/   15 | avg CG 0.63435 | avg CS 2.95516 | avg ATT 0.04372 | avg DUAL 1.96796\n",
      "Epoch    18/100 | Batch    15/   15 | avg CG 0.62885 | avg CS 2.89174 | avg ATT 0.03885 | avg DUAL 1.89836\n",
      "Epoch    19/100 | Batch    15/   15 | avg CG 0.53736 | avg CS 2.73217 | avg ATT 0.03919 | avg DUAL 1.73037\n",
      "Epoch    20/100 | Batch    15/   15 | avg CG 0.44438 | avg CS 2.54614 | avg ATT 0.03534 | avg DUAL 1.50239\n",
      "Epoch    21/100 | Batch    15/   15 | avg CG 0.40725 | avg CS 2.50071 | avg ATT 0.03060 | avg DUAL 1.48576\n",
      "Epoch    22/100 | Batch    15/   15 | avg CG 0.35449 | avg CS 2.40272 | avg ATT 0.02551 | avg DUAL 1.34342\n",
      "Epoch    23/100 | Batch    15/   15 | avg CG 0.30737 | avg CS 2.24213 | avg ATT 0.03108 | avg DUAL 1.17410\n",
      "Epoch    24/100 | Batch    15/   15 | avg CG 0.27913 | avg CS 2.24009 | avg ATT 0.02671 | avg DUAL 1.22725\n",
      "Epoch    25/100 | Batch    15/   15 | avg CG 0.25628 | avg CS 2.09803 | avg ATT 0.02395 | avg DUAL 1.13457\n",
      "Epoch    26/100 | Batch    15/   15 | avg CG 0.22080 | avg CS 1.94535 | avg ATT 0.02134 | avg DUAL 0.91048\n",
      "Epoch    27/100 | Batch    15/   15 | avg CG 0.18990 | avg CS 1.87886 | avg ATT 0.02166 | avg DUAL 0.86588\n",
      "Epoch    28/100 | Batch    15/   15 | avg CG 0.16701 | avg CS 1.77015 | avg ATT 0.02364 | avg DUAL 0.70615\n",
      "Epoch    29/100 | Batch    15/   15 | avg CG 0.13953 | avg CS 1.65846 | avg ATT 0.01917 | avg DUAL 0.64735\n",
      "Epoch    30/100 | Batch    15/   15 | avg CG 0.12660 | avg CS 1.59266 | avg ATT 0.01821 | avg DUAL 0.60580\n",
      "Epoch    31/100 | Batch    15/   15 | avg CG 0.11202 | avg CS 1.56809 | avg ATT 0.01811 | avg DUAL 0.61963\n",
      "Epoch    32/100 | Batch    15/   15 | avg CG 0.09870 | avg CS 1.46774 | avg ATT 0.01711 | avg DUAL 0.54226\n",
      "Epoch    33/100 | Batch    15/   15 | avg CG 0.08650 | avg CS 1.37805 | avg ATT 0.01662 | avg DUAL 0.48091\n",
      "Epoch    34/100 | Batch    15/   15 | avg CG 0.08138 | avg CS 1.35900 | avg ATT 0.01667 | avg DUAL 0.57668\n",
      "Epoch    35/100 | Batch    15/   15 | avg CG 0.06978 | avg CS 1.27475 | avg ATT 0.01404 | avg DUAL 0.42598\n",
      "Epoch    36/100 | Batch    15/   15 | avg CG 0.06638 | avg CS 1.19349 | avg ATT 0.01347 | avg DUAL 0.44125\n",
      "Epoch    37/100 | Batch    15/   15 | avg CG 0.05761 | avg CS 1.13423 | avg ATT 0.01381 | avg DUAL 0.41733\n",
      "Epoch    38/100 | Batch    15/   15 | avg CG 0.05185 | avg CS 1.05194 | avg ATT 0.01329 | avg DUAL 0.40178\n",
      "Epoch    39/100 | Batch    15/   15 | avg CG 0.04826 | avg CS 1.04820 | avg ATT 0.01293 | avg DUAL 0.40946\n",
      "Epoch    40/100 | Batch    15/   15 | avg CG 0.04551 | avg CS 0.96262 | avg ATT 0.01261 | avg DUAL 0.53710\n",
      "Epoch    41/100 | Batch    15/   15 | avg CG 0.04199 | avg CS 0.93792 | avg ATT 0.01232 | avg DUAL 0.42446\n",
      "Epoch    42/100 | Batch    15/   15 | avg CG 0.03973 | avg CS 0.86742 | avg ATT 0.01173 | avg DUAL 0.46444\n",
      "Epoch    43/100 | Batch    15/   15 | avg CG 0.03757 | avg CS 0.83499 | avg ATT 0.01262 | avg DUAL 0.46798\n",
      "Epoch    44/100 | Batch    15/   15 | avg CG 0.03609 | avg CS 0.83398 | avg ATT 0.01290 | avg DUAL 0.45924\n",
      "Epoch    45/100 | Batch    15/   15 | avg CG 0.03533 | avg CS 0.82015 | avg ATT 0.01175 | avg DUAL 0.51821\n",
      "Epoch    46/100 | Batch    15/   15 | avg CG 0.03181 | avg CS 0.74361 | avg ATT 0.01218 | avg DUAL 0.51730\n",
      "Epoch    47/100 | Batch    15/   15 | avg CG 0.03144 | avg CS 0.71100 | avg ATT 0.01261 | avg DUAL 0.51804\n",
      "Epoch    48/100 | Batch    15/   15 | avg CG 0.03012 | avg CS 0.69189 | avg ATT 0.01306 | avg DUAL 0.51805\n",
      "Epoch    49/100 | Batch    15/   15 | avg CG 0.02929 | avg CS 0.65698 | avg ATT 0.01324 | avg DUAL 0.55338\n",
      "Epoch    50/100 | Batch    15/   15 | avg CG 0.02769 | avg CS 0.61913 | avg ATT 0.01253 | avg DUAL 0.62813\n",
      "Epoch    51/100 | Batch    15/   15 | avg CG 0.02659 | avg CS 0.61806 | avg ATT 0.01035 | avg DUAL 0.60729\n",
      "Epoch    52/100 | Batch    15/   15 | avg CG 0.02918 | avg CS 0.58541 | avg ATT 0.01066 | avg DUAL 0.67452\n",
      "Epoch    53/100 | Batch    15/   15 | avg CG 0.02550 | avg CS 0.54282 | avg ATT 0.01148 | avg DUAL 0.66174\n",
      "Epoch    54/100 | Batch    15/   15 | avg CG 0.02498 | avg CS 0.51906 | avg ATT 0.01090 | avg DUAL 0.72919\n",
      "Epoch    55/100 | Batch    15/   15 | avg CG 0.02444 | avg CS 0.50645 | avg ATT 0.01084 | avg DUAL 0.68957\n",
      "Epoch    56/100 | Batch    15/   15 | avg CG 0.02376 | avg CS 0.49336 | avg ATT 0.01104 | avg DUAL 0.71221\n",
      "Epoch    57/100 | Batch    15/   15 | avg CG 0.02415 | avg CS 0.47928 | avg ATT 0.01620 | avg DUAL 0.71741\n",
      "Epoch    58/100 | Batch    15/   15 | avg CG 0.02474 | avg CS 0.48083 | avg ATT 0.01642 | avg DUAL 0.85231\n",
      "Epoch    59/100 | Batch    15/   15 | avg CG 0.02328 | avg CS 0.43295 | avg ATT 0.01640 | avg DUAL 0.74984\n",
      "Epoch    60/100 | Batch    15/   15 | avg CG 0.02407 | avg CS 0.42694 | avg ATT 0.01625 | avg DUAL 0.77337\n",
      "Epoch    61/100 | Batch    15/   15 | avg CG 0.02244 | avg CS 0.41467 | avg ATT 0.01509 | avg DUAL 0.79557\n",
      "Epoch    62/100 | Batch    15/   15 | avg CG 0.02590 | avg CS 0.46276 | avg ATT 0.03316 | avg DUAL 0.80605\n",
      "Epoch    63/100 | Batch    15/   15 | avg CG 0.02472 | avg CS 0.52416 | avg ATT 0.03019 | avg DUAL 0.74891\n",
      "Epoch    64/100 | Batch    15/   15 | avg CG 0.02198 | avg CS 0.45634 | avg ATT 0.01887 | avg DUAL 0.77946\n",
      "Epoch    65/100 | Batch    15/   15 | avg CG 0.02079 | avg CS 0.39356 | avg ATT 0.01136 | avg DUAL 0.79925\n",
      "Epoch    66/100 | Batch    15/   15 | avg CG 0.02010 | avg CS 0.36383 | avg ATT 0.00995 | avg DUAL 0.84980\n",
      "Epoch    67/100 | Batch    15/   15 | avg CG 0.01945 | avg CS 0.32731 | avg ATT 0.00842 | avg DUAL 0.86082\n",
      "Epoch    68/100 | Batch    15/   15 | avg CG 0.01962 | avg CS 0.31220 | avg ATT 0.00668 | avg DUAL 0.96162\n",
      "Epoch    69/100 | Batch    15/   15 | avg CG 0.01954 | avg CS 0.33541 | avg ATT 0.00646 | avg DUAL 0.90262\n",
      "Epoch    70/100 | Batch    15/   15 | avg CG 0.01970 | avg CS 0.30688 | avg ATT 0.00613 | avg DUAL 1.01794\n",
      "Epoch    71/100 | Batch    15/   15 | avg CG 0.01887 | avg CS 0.28542 | avg ATT 0.00605 | avg DUAL 0.95506\n",
      "Epoch    72/100 | Batch    15/   15 | avg CG 0.01929 | avg CS 0.29239 | avg ATT 0.00553 | avg DUAL 1.06343\n",
      "Epoch    73/100 | Batch    15/   15 | avg CG 0.01787 | avg CS 0.26358 | avg ATT 0.00535 | avg DUAL 0.95660\n",
      "Epoch    74/100 | Batch    15/   15 | avg CG 0.01842 | avg CS 0.25253 | avg ATT 0.00530 | avg DUAL 1.02243\n",
      "Epoch    75/100 | Batch    15/   15 | avg CG 0.01828 | avg CS 0.24013 | avg ATT 0.00528 | avg DUAL 1.02348\n",
      "Epoch    76/100 | Batch    15/   15 | avg CG 0.01790 | avg CS 0.23335 | avg ATT 0.00519 | avg DUAL 1.01529\n",
      "Epoch    77/100 | Batch    15/   15 | avg CG 0.01800 | avg CS 0.22829 | avg ATT 0.00561 | avg DUAL 1.03614\n",
      "Epoch    78/100 | Batch    15/   15 | avg CG 0.01850 | avg CS 0.25058 | avg ATT 0.00545 | avg DUAL 1.06781\n",
      "Epoch    79/100 | Batch    15/   15 | avg CG 0.01811 | avg CS 0.21880 | avg ATT 0.00577 | avg DUAL 1.08032\n",
      "Epoch    80/100 | Batch    15/   15 | avg CG 0.01788 | avg CS 0.22160 | avg ATT 0.00566 | avg DUAL 1.08542\n",
      "Epoch    81/100 | Batch    15/   15 | avg CG 0.01747 | avg CS 0.22163 | avg ATT 0.00541 | avg DUAL 1.06187\n",
      "Epoch    82/100 | Batch    15/   15 | avg CG 0.01770 | avg CS 0.22131 | avg ATT 0.00517 | avg DUAL 1.10768\n",
      "Epoch    83/100 | Batch    15/   15 | avg CG 0.01873 | avg CS 0.19210 | avg ATT 0.00533 | avg DUAL 1.22369\n",
      "Epoch    84/100 | Batch    15/   15 | avg CG 0.01801 | avg CS 0.20965 | avg ATT 0.00513 | avg DUAL 1.13601\n",
      "Epoch    85/100 | Batch    15/   15 | avg CG 0.01748 | avg CS 0.18544 | avg ATT 0.00528 | avg DUAL 1.12436\n",
      "Epoch    86/100 | Batch    15/   15 | avg CG 0.01711 | avg CS 0.18332 | avg ATT 0.00523 | avg DUAL 1.11071\n",
      "Epoch    87/100 | Batch    15/   15 | avg CG 0.01710 | avg CS 0.16990 | avg ATT 0.00515 | avg DUAL 1.11661\n",
      "Epoch    88/100 | Batch    15/   15 | avg CG 0.01731 | avg CS 0.17699 | avg ATT 0.00518 | avg DUAL 1.13616\n",
      "Epoch    89/100 | Batch    15/   15 | avg CG 0.01864 | avg CS 0.16346 | avg ATT 0.00503 | avg DUAL 1.28387\n",
      "Epoch    90/100 | Batch    15/   15 | avg CG 0.01808 | avg CS 0.16033 | avg ATT 0.00490 | avg DUAL 1.23918\n",
      "Epoch    91/100 | Batch    15/   15 | avg CG 0.01786 | avg CS 0.16268 | avg ATT 0.00527 | avg DUAL 1.24018\n",
      "Epoch    92/100 | Batch    15/   15 | avg CG 0.01716 | avg CS 0.15358 | avg ATT 0.00509 | avg DUAL 1.18502\n",
      "Epoch    93/100 | Batch    15/   15 | avg CG 0.01782 | avg CS 0.15630 | avg ATT 0.00509 | avg DUAL 1.23697\n",
      "Epoch    94/100 | Batch    15/   15 | avg CG 0.01784 | avg CS 0.15151 | avg ATT 0.00486 | avg DUAL 1.25286\n",
      "Epoch    95/100 | Batch    15/   15 | avg CG 0.01740 | avg CS 0.13965 | avg ATT 0.00474 | avg DUAL 1.22831\n",
      "Epoch    96/100 | Batch    15/   15 | avg CG 0.01736 | avg CS 0.14098 | avg ATT 0.00517 | avg DUAL 1.23712\n",
      "Epoch    97/100 | Batch    15/   15 | avg CG 0.01778 | avg CS 0.14759 | avg ATT 0.00531 | avg DUAL 1.21775\n",
      "Epoch    98/100 | Batch    15/   15 | avg CG 0.01759 | avg CS 0.13281 | avg ATT 0.00473 | avg DUAL 1.28088\n",
      "Epoch    99/100 | Batch    15/   15 | avg CG 0.01679 | avg CS 0.12614 | avg ATT 0.00461 | avg DUAL 1.20443\n",
      "Epoch   100/100 | Batch    15/   15 | avg CG 0.01724 | avg CS 0.12488 | avg ATT 0.00465 | avg DUAL 1.26658\n"
     ]
    }
   ],
   "source": [
    "for epoch_idx in range(1, CFG.num_epochs+1):\n",
    "    \n",
    "    for batch_idx, (anno, code, anno_lm_p, code_lm_p) in enumerate(train_loader, start=1):        \n",
    "        anno_len, code_len = anno.shape[1], code.shape[1]\n",
    "        \n",
    "        if CFG.cuda:\n",
    "            anno, code, anno_lm_p, code_lm_p = map(lambda t: t.cuda(), [anno, code, anno_lm_p, code_lm_p])\n",
    "            \n",
    "        # binary mask indicating the presence of padding token\n",
    "        anno_mask = T.tensor(anno == dataset.anno_lang.token2index['<pad>']).byte()\n",
    "        code_mask = T.tensor(code == dataset.code_lang.token2index['<pad>']).byte()\n",
    "            \n",
    "        # forward pass\n",
    "        code_pred, code_att_mat = cg_model(src=anno, tgt=code)\n",
    "        anno_pred, anno_att_mat = cs_model(src=code, tgt=anno)\n",
    "                                \n",
    "        # loss computation\n",
    "        l_cg_ce, l_cs_ce = 0, 0\n",
    "        \n",
    "        # CG cross-entropy loss\n",
    "        for t in range(code_len):\n",
    "            probs = code_pred[:, t, :].gather(1, code[:, t].view(-1, 1)).squeeze(1)\n",
    "            l_cg_ce += -T.log(probs) / code_len\n",
    "                    \n",
    "        # CS cross-entropy loss\n",
    "        for t in range(anno_len):\n",
    "            probs = anno_pred[:, t, :].gather(1, anno[:, t].view(-1, 1)).squeeze(1)\n",
    "            l_cs_ce += -T.log(probs) / anno_len\n",
    "            \n",
    "        # dual loss: P(x,y) = P(x).P(y|x) = P(y).P(x|y)\n",
    "        l_dual = (code_lm_p - l_cs_ce - anno_lm_p + l_cg_ce) ** 2\n",
    "                \n",
    "        # attention loss: JSD\n",
    "        l_att = JSD(anno_att_mat, code_att_mat.transpose(2,1), mask=code_mask) + \\\n",
    "                JSD(anno_att_mat.transpose(2,1), code_att_mat, mask=anno_mask)\n",
    "                \n",
    "        # final loss\n",
    "        l_cg = T.mean(l_cg_ce + 0.01 * l_dual + 0.2 * l_att)\n",
    "        l_cs = T.mean(l_cs_ce + 0.01 * l_dual + 0.2 * l_att)\n",
    "                \n",
    "        # optimize CG\n",
    "        cg_model.opt.zero_grad()\n",
    "        l_cg.backward(retain_graph=True)\n",
    "        cg_model.opt.step()\n",
    "                \n",
    "        # optimize CS\n",
    "        cs_model.opt.zero_grad()\n",
    "        l_cs.backward()\n",
    "        cs_model.opt.step()\n",
    "                \n",
    "        # reporting\n",
    "        __cg_l   += l_cg.item()   / __rep_every\n",
    "        __cs_l   += l_cs.item()   / __rep_every\n",
    "        __att_l  += l_att.mean().item()  / __rep_every\n",
    "        __dual_l += l_dual.mean().item() / __rep_every\n",
    "        \n",
    "        if batch_idx % __rep_every == 0:\n",
    "            status = [f'Epoch {epoch_idx:>5d}/{CFG.num_epochs:>3d}', f'Batch {batch_idx:>5d}/{len(train_loader):5d}',\n",
    "                      f'avg CG {__cg_l:7.5f}', f'avg CS {__cs_l:7.5f}', f'avg ATT {__att_l:7.5f}', f'avg DUAL {__dual_l:7.5f}']\n",
    "            print(' | '.join(status))\n",
    "            __cg_l, __cs_l, __att_l, __dual_l = 0, 0, 0, 0\n",
    "    # --- epoch end\n",
    "            \n",
    "    # TODO...\n",
    "#     if epoch_idx % 1 == 0:\n",
    "#         with T.no_grad():\n",
    "#             print()\n",
    "#             ws = dataset.code_lang.to_tokens(code_pred.argmax(dim=-1))\n",
    "#             i = np.random.randint(len(ws))\n",
    "#             print(f'{i} pred: {\" \".join(ws[i])}')\n",
    "#             print(f'{i}  tgt: {\" \".join(code[i].argmax())}')\n",
    "            \n",
    "#             print('\\t'+'-'*80)\n",
    "#             ws = dataset.anno_lang.to_tokens(anno_pred.argmax(dim=-1))\n",
    "#             i = np.random.randint(len(ws))\n",
    "#             print(f'\\t{i}: {\" \".join(ws[i])}')\n",
    "#             print()"
   ]
  },
  {
   "cell_type": "markdown",
   "metadata": {},
   "source": [
    "# 5. Evaluate"
   ]
  },
  {
   "cell_type": "markdown",
   "metadata": {},
   "source": [
    "## 5.1. Exact match"
   ]
  },
  {
   "cell_type": "code",
   "execution_count": 91,
   "metadata": {},
   "outputs": [
    {
     "data": {
      "application/vnd.jupyter.widget-view+json": {
       "model_id": "33801d05c27547ca951e79018f3bb9b7",
       "version_major": 2,
       "version_minor": 0
      },
      "text/plain": [
       "HBox(children=(FloatProgress(value=0.0, max=450.0), HTML(value='')))"
      ]
     },
     "metadata": {},
     "output_type": "display_data"
    },
    {
     "name": "stdout",
     "output_type": "stream",
     "text": [
      "\n",
      "         em_anno: 0.98622\n",
      "         em_code: 1.00000\n",
      "  strict_em_anno: 0.86222\n",
      "  strict_em_code: 1.00000\n"
     ]
    }
   ],
   "source": [
    "test_loader = DataLoader(dataset, batch_size=1, shuffle=False)\n",
    "\n",
    "metrics = {k: 0 for k in [\n",
    "    'em_anno', 'em_code', 'strict_em_anno', 'strict_em_code'\n",
    "]}\n",
    "\n",
    "with T.no_grad():\n",
    "    for batch_idx, (anno, code, anno_lm_p, code_lm_p) in tqdm(enumerate(test_loader, start=1), total=len(test_loader)): \n",
    "        if CFG.cuda:\n",
    "            anno, code, anno_lm_p, code_lm_p = map(lambda t: t.cuda(), [anno, code, anno_lm_p, code_lm_p])\n",
    "            \n",
    "        # forward pass\n",
    "        code_pred, code_att_mat = cg_model(src=anno, tgt=code)\n",
    "        anno_pred, anno_att_mat = cs_model(src=code, tgt=anno)\n",
    "        \n",
    "        # TODO: ideally, this should be beam-search\n",
    "        code_pred = code_pred.argmax(dim=2)\n",
    "        anno_pred = anno_pred.argmax(dim=2)\n",
    "        \n",
    "        code_score = T.mean((code_pred == code).float())\n",
    "        anno_score = T.mean((anno_pred == anno).float())\n",
    "        \n",
    "        metrics['em_code'] += code_score / len(test_loader)\n",
    "        metrics['em_anno'] += anno_score / len(test_loader)\n",
    "        \n",
    "        if np.isclose(code_score, 1):\n",
    "            metrics['strict_em_code'] += 1 / len(test_loader)\n",
    "        if np.isclose(anno_score, 1):\n",
    "            metrics['strict_em_anno'] += 1 / len(test_loader)\n",
    "        \n",
    "for k, v in metrics.items():\n",
    "    print(f'{k:>16s}: {v:7.5f}')"
   ]
  },
  {
   "cell_type": "markdown",
   "metadata": {},
   "source": [
    "## 5.2. Attention matrices"
   ]
  },
  {
   "cell_type": "code",
   "execution_count": null,
   "metadata": {},
   "outputs": [],
   "source": [
    "with T.no_grad():\n",
    "    a, c = anno[[1]], code[[1]]\n",
    "    x, x_mat = cg_model(src=a, tgt=c)\n",
    "    y, y_mat = cs_model(src=c, tgt=a)\n",
    "    x = x[0].cpu()\n",
    "    x_mat = x_mat[0].cpu()\n",
    "    y = y[0].cpu()\n",
    "    y_mat = y_mat[0].cpu()"
   ]
  },
  {
   "cell_type": "code",
   "execution_count": null,
   "metadata": {},
   "outputs": [],
   "source": [
    "ct = dataset.code_lang.to_tokens(c)[0]\n",
    "ct"
   ]
  },
  {
   "cell_type": "code",
   "execution_count": null,
   "metadata": {},
   "outputs": [],
   "source": [
    "at = dataset.anno_lang.to_tokens(a)[0]\n",
    "at"
   ]
  },
  {
   "cell_type": "code",
   "execution_count": null,
   "metadata": {},
   "outputs": [],
   "source": [
    "xt = dataset.code_lang.to_tokens(x.argmax(dim=1))[0]\n",
    "xt"
   ]
  },
  {
   "cell_type": "code",
   "execution_count": null,
   "metadata": {},
   "outputs": [],
   "source": [
    "yt = dataset.anno_lang.to_tokens(y.argmax(dim=1))[0]\n",
    "yt"
   ]
  },
  {
   "cell_type": "code",
   "execution_count": null,
   "metadata": {},
   "outputs": [],
   "source": [
    "plt.figure(figsize=(12,8))\n",
    "plt.imshow(F.softmax(x_mat, -1), cmap='jet')\n",
    "plt.grid(False)\n",
    "plt.xticks(ticks=np.arange(len(yt)), labels=yt, rotation=90)\n",
    "plt.xlabel('anno')\n",
    "plt.yticks(ticks=np.arange(len(xt)), labels=xt, rotation=0)\n",
    "plt.ylabel('code')\n",
    "plt.colorbar()"
   ]
  },
  {
   "cell_type": "code",
   "execution_count": null,
   "metadata": {},
   "outputs": [],
   "source": [
    "plt.figure(figsize=(12,8))\n",
    "plt.imshow(F.softmax(y_mat, -1), cmap='jet')\n",
    "plt.grid(False)\n",
    "plt.xticks(ticks=np.arange(len(ct)), labels=ct, rotation=90)\n",
    "plt.xlabel('code')\n",
    "plt.yticks(ticks=np.arange(len(yt)), labels=yt, rotation=0)\n",
    "plt.ylabel('anno')\n",
    "plt.colorbar()"
   ]
  }
 ],
 "metadata": {
  "kernelspec": {
   "display_name": "PyTorch",
   "language": "python",
   "name": "pytorch-gpu"
  },
  "language_info": {
   "codemirror_mode": {
    "name": "ipython",
    "version": 3
   },
   "file_extension": ".py",
   "mimetype": "text/x-python",
   "name": "python",
   "nbconvert_exporter": "python",
   "pygments_lexer": "ipython3",
   "version": "3.7.6"
  }
 },
 "nbformat": 4,
 "nbformat_minor": 4
}
